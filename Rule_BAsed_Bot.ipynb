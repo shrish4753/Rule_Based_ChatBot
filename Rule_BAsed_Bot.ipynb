{
  "nbformat": 4,
  "nbformat_minor": 0,
  "metadata": {
    "colab": {
      "provenance": [],
      "authorship_tag": "ABX9TyMD74UzuQau5uVV05wguDy8",
      "include_colab_link": true
    },
    "kernelspec": {
      "name": "python3",
      "display_name": "Python 3"
    },
    "language_info": {
      "name": "python"
    }
  },
  "cells": [
    {
      "cell_type": "markdown",
      "metadata": {
        "id": "view-in-github",
        "colab_type": "text"
      },
      "source": [
        "<a href=\"https://colab.research.google.com/github/shrish4753/Rule_Based_ChatBot/blob/main/Rule_BAsed_Bot.ipynb\" target=\"_parent\"><img src=\"https://colab.research.google.com/assets/colab-badge.svg\" alt=\"Open In Colab\"/></a>"
      ]
    },
    {
      "cell_type": "code",
      "execution_count": 1,
      "metadata": {
        "id": "tCvJtDsIqCvJ"
      },
      "outputs": [],
      "source": [
        "#importing libraries\n",
        "import re\n",
        "import random\n"
      ]
    },
    {
      "cell_type": "code",
      "source": [
        "import random\n",
        "import re\n",
        "\n",
        "class RuleBot:\n",
        "    # Potential Negative Responses\n",
        "    negative_responses = ('no', 'nope', 'nah', 'naw', 'not a chance', 'sorry')\n",
        "    # Exit conversation keywords\n",
        "    exit_commands = ('quit', 'pause', 'exit', 'goodbye', 'by', 'later')\n",
        "    # Random starter questions\n",
        "    random_questions = (\n",
        "        'Why are you here?',\n",
        "        'Are there many humans like you?',\n",
        "        'What do you consume for sustenance?',\n",
        "        'Is there intelligent life on this planet?',\n",
        "        'Does earth have a leader?',\n",
        "        'What planet have you visited?',\n",
        "        'What technology do you have on this planet?'\n",
        "    )\n",
        "\n",
        "    def __init__(self):\n",
        "        self.alienbabble = {\n",
        "            'describe_planet_intent': r'.*\\s*your planet.*',\n",
        "            'answer_why_intent': r'why\\sare.*',\n",
        "            'about_intellipat': r'.*\\s*intellipaat'\n",
        "        }\n",
        "\n",
        "    def greet(self):\n",
        "        self.name = input('What is your name?\\n')\n",
        "        will_help = input(f\"Hi {self.name}, I am Rule-Bot. Will you help me learn about your planet?\\n\")\n",
        "        if will_help in self.negative_responses:\n",
        "            print('Okay, have a nice earth day!')\n",
        "            return\n",
        "        self.chat()\n",
        "\n",
        "    def make_exit(self, reply):\n",
        "        for command in self.exit_commands:\n",
        "            if reply == command:\n",
        "                print('Okay, have a nice earth day!')\n",
        "                return True\n",
        "\n",
        "    def chat(self):\n",
        "        reply = input(random.choice(self.random_questions)).lower()\n",
        "        while not self.make_exit(reply):\n",
        "            reply = input(self.match_reply(reply))\n",
        "\n",
        "    def match_reply(self, reply):\n",
        "        for key, value in self.alienbabble.items():\n",
        "            intent = key\n",
        "            regex_pattern = value\n",
        "            found_match = re.match(regex_pattern, reply)\n",
        "            if found_match and intent == 'describe_planet_intent':\n",
        "                return self.describe_planet_intent()\n",
        "            elif found_match and intent == 'answer_why_intent':\n",
        "                return self.answer_why_intent()\n",
        "            elif found_match and intent == 'about_intellipat':\n",
        "                return self.about_intellipat()\n",
        "        if not found_match:\n",
        "            return self.no_match_intent()\n",
        "\n",
        "    def describe_planet_intent(self):\n",
        "        responses = ('My planet is a utopia of diverse organisms and species.\\n',\n",
        "                     'I am from Opiddipus, the capital of the wardard galaxies.\\n')\n",
        "        return random.choice(responses)\n",
        "\n",
        "    def answer_why_intent(self):\n",
        "        responses = ('I come in peace\\n', 'I am here to collect data on your planet and its inhabitants\\n',\n",
        "                     'I heard the coffee is good\\n')\n",
        "        return random.choice(responses)\n",
        "\n",
        "    def about_intellipat(self):\n",
        "        responses = ('Intellipat is the world\\'s largest professional educational company\\n',\n",
        "                     'Intellipat will make you learn concepts in a way you never have before\\n')\n",
        "        return random.choice(responses)\n",
        "\n",
        "    def no_match_intent(self):\n",
        "        responses = (\n",
        "            'Please tell me more.\\n',\n",
        "            'Why do you say that?\\n',\n",
        "            'I see. Can you elaborate?\\n',\n",
        "            'Tell me more?\\n',\n",
        "            'Interesting. Can you tell me more?\\n',\n",
        "            'I see. How do you think?\\n',\n",
        "            'Why?\\n',\n",
        "            'How do you think I feel when you say that?\\n'\n",
        "        )\n",
        "        return random.choice(responses)\n",
        "\n",
        "AlienBot = RuleBot()\n",
        "AlienBot.greet()\n",
        "\n",
        "\n",
        "\n",
        "\n",
        "\n",
        ""
      ],
      "metadata": {
        "colab": {
          "base_uri": "https://localhost:8080/",
          "height": 0
        },
        "id": "O_nIfJKtqXQ1",
        "outputId": "173580f0-6113-4519-a36d-35619082795b"
      },
      "execution_count": 6,
      "outputs": [
        {
          "output_type": "stream",
          "name": "stdout",
          "text": [
            "What is your name?\n",
            "shrish kashyap\n",
            "Hi shrish kashyap, I am Rule-Bot. Will you help me learn about your planet?\n",
            "no\n",
            "Okay, have a nice earth day!\n"
          ]
        }
      ]
    },
    {
      "cell_type": "code",
      "source": [
        "!8"
      ],
      "metadata": {
        "id": "bkEiPD3Vv-r1"
      },
      "execution_count": null,
      "outputs": []
    }
  ]
}